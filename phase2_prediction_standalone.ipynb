{
 "cells": [
  {
   "cell_type": "code",
   "execution_count": 1,
   "metadata": {},
   "outputs": [],
   "source": [
    "import os\n",
    "import numpy as np\n",
    "import pandas as pd\n",
    "import matplotlib.pyplot as plt\n",
    "from sklearn.ensemble import RandomForestClassifier, GradientBoostingClassifier\n",
    "from glob import glob\n",
    "from sklearn.externals import joblib\n",
    "from scipy.stats import norm\n",
    "%matplotlib inline"
   ]
  },
  {
   "cell_type": "code",
   "execution_count": 2,
   "metadata": {},
   "outputs": [],
   "source": [
    "def log_progress(sequence, every=None, size=None, name='Items'):\n",
    "    from ipywidgets import IntProgress, HTML, VBox\n",
    "    from IPython.display import display\n",
    "\n",
    "    is_iterator = False\n",
    "    if size is None:\n",
    "        try:\n",
    "            size = len(sequence)\n",
    "        except TypeError:\n",
    "            is_iterator = True\n",
    "    if size is not None:\n",
    "        if every is None:\n",
    "            if size <= 200:\n",
    "                every = 1\n",
    "            else:\n",
    "                every = int(size / 200)     # every 0.5%\n",
    "    else:\n",
    "        assert every is not None, 'sequence is iterator, set every'\n",
    "\n",
    "    if is_iterator:\n",
    "        progress = IntProgress(min=0, max=1, value=1)\n",
    "        progress.bar_style = 'info'\n",
    "    else:\n",
    "        progress = IntProgress(min=0, max=size, value=0)\n",
    "    label = HTML()\n",
    "    box = VBox(children=[label, progress])\n",
    "    display(box)\n",
    "\n",
    "    index = 0\n",
    "    try:\n",
    "        for index, record in enumerate(sequence, 1):\n",
    "            if index == 1 or index % every == 0:\n",
    "                if is_iterator:\n",
    "                    label.value = '{name}: {index} / ?'.format(\n",
    "                        name=name,\n",
    "                        index=index\n",
    "                    )\n",
    "                else:\n",
    "                    progress.value = index\n",
    "                    label.value = u'{name}: {index} / {size}'.format(\n",
    "                        name=name,\n",
    "                        index=index,\n",
    "                        size=size\n",
    "                    )\n",
    "            yield record\n",
    "    except:\n",
    "        progress.bar_style = 'danger'\n",
    "        raise\n",
    "    else:\n",
    "        progress.bar_style = 'success'\n",
    "        progress.value = index\n",
    "        label.value = \"{name}: {index}\".format(\n",
    "            name=name,\n",
    "            index=str(index or '?')\n",
    "        )"
   ]
  },
  {
   "cell_type": "markdown",
   "metadata": {},
   "source": [
    "---"
   ]
  },
  {
   "cell_type": "raw",
   "metadata": {},
   "source": [
    "%env CUDA_VISIBLE_DEVICES=-1"
   ]
  },
  {
   "cell_type": "code",
   "execution_count": 2,
   "metadata": {},
   "outputs": [
    {
     "name": "stderr",
     "output_type": "stream",
     "text": [
      "Using TensorFlow backend.\n"
     ]
    }
   ],
   "source": [
    "import keras"
   ]
  },
  {
   "cell_type": "code",
   "execution_count": 4,
   "metadata": {},
   "outputs": [],
   "source": [
    "model_tmp = keras.models.load_model('models/model_audio_phase2.h5')\n",
    "model_audio = keras.models.Model(model_tmp.input, model_tmp.get_layer('dropout_2').output)"
   ]
  },
  {
   "cell_type": "code",
   "execution_count": 5,
   "metadata": {},
   "outputs": [],
   "source": [
    "model_tmp = keras.models.load_model('models/model_eyes_phase2.h5')\n",
    "model_eyes = keras.models.Model(model_tmp.input, model_tmp.get_layer('dropout_2').output)"
   ]
  },
  {
   "cell_type": "code",
   "execution_count": 6,
   "metadata": {},
   "outputs": [],
   "source": [
    "model_tmp = keras.models.load_model('models/model_face_phase2.h5')\n",
    "model_face = keras.models.Model(model_tmp.input, model_tmp.get_layer('dropout_2').output)"
   ]
  },
  {
   "cell_type": "code",
   "execution_count": 7,
   "metadata": {},
   "outputs": [],
   "source": [
    "model_tmp = keras.models.load_model('models/model_kinect_phase2.h5')\n",
    "model_kinect = keras.models.Model(model_tmp.input, model_tmp.get_layer('dropout_2').output)"
   ]
  },
  {
   "cell_type": "code",
   "execution_count": 8,
   "metadata": {},
   "outputs": [],
   "source": [
    "del model_tmp"
   ]
  },
  {
   "cell_type": "code",
   "execution_count": 9,
   "metadata": {},
   "outputs": [],
   "source": [
    "def norm(arr, mins, maxs):\n",
    "    arr = arr.astype(float)\n",
    "    for i in range(arr.shape[-1]):\n",
    "        arr[:, :, i] -= mins[i]\n",
    "        arr[:, :, i] /= maxs[i]\n",
    "    return arr"
   ]
  },
  {
   "cell_type": "code",
   "execution_count": 10,
   "metadata": {},
   "outputs": [],
   "source": [
    "mins_audio, maxs_audio = np.load('data/audio_mins.npy'), np.load('data/audio_maxs.npy')\n",
    "mins_kinect, maxs_kinect = np.load('data/kinect_mins.npy'), np.load('data/kinect_maxs.npy')"
   ]
  },
  {
   "cell_type": "code",
   "execution_count": 15,
   "metadata": {},
   "outputs": [
    {
     "name": "stdout",
     "output_type": "stream",
     "text": [
      "141\n"
     ]
    }
   ],
   "source": [
    "f_videos = sorted(glob('data/X_test/*.npy'))\n",
    "\n",
    "print len(f_videos)"
   ]
  },
  {
   "cell_type": "code",
   "execution_count": 27,
   "metadata": {
    "scrolled": true
   },
   "outputs": [
    {
     "data": {
      "application/vnd.jupyter.widget-view+json": {
       "model_id": "47a31ebec8cc4ce8b506f0bb2f96dfec",
       "version_major": 2,
       "version_minor": 0
      },
      "text/html": [
       "<p>Failed to display Jupyter Widget of type <code>VBox</code>.</p>\n",
       "<p>\n",
       "  If you're reading this message in Jupyter Notebook or JupyterLab, it may mean\n",
       "  that the widgets JavaScript is still loading. If this message persists, it\n",
       "  likely means that the widgets JavaScript library is either not installed or\n",
       "  not enabled. See the <a href=\"https://ipywidgets.readthedocs.io/en/stable/user_install.html\">Jupyter\n",
       "  Widgets Documentation</a> for setup instructions.\n",
       "</p>\n",
       "<p>\n",
       "  If you're reading this message in another notebook frontend (for example, a static\n",
       "  rendering on GitHub or <a href=\"https://nbviewer.jupyter.org/\">NBViewer</a>),\n",
       "  it may mean that your frontend doesn't currently support widgets.\n",
       "</p>\n"
      ],
      "text/plain": [
       "VBox(children=(HTML(value=u''), IntProgress(value=0, max=141)))"
      ]
     },
     "metadata": {},
     "output_type": "display_data"
    },
    {
     "name": "stdout",
     "output_type": "stream",
     "text": [
      "(0,) (0,) (0,) (0,)\n",
      "(0,) (0,) (0,) (0,)\n",
      "(0,) (0,) (0,) (0,)\n",
      "(0,) (0,) (0,) (0,)\n",
      "(0,) (0,) (0,) (0,)\n",
      "(0,) (0,) (0,) (0,)\n",
      "(0,) (0,) (0,) (0,)\n",
      "(0,) (0,) (0,) (0,)\n",
      "(0,) (0,) (0,) (0,)\n",
      "(0,) (0,) (0,) (0,)\n",
      "(0,) (0,) (0,) (0,)\n",
      "(0,) (0,) (0,) (0,)\n",
      "(0,) (0,) (0,) (0,)\n",
      "(0,) (0,) (0,) (0,)\n",
      "(0,) (0,) (0,) (0,)\n",
      "(0,) (0,) (0,) (0,)\n",
      "(0,) (0,) (0,) (0,)\n",
      "(0,) (0,) (0,) (0,)\n",
      "(0,) (0,) (0,) (0,)\n",
      "(0,) (0,) (0,) (0,)\n",
      "(0,) (0,) (0,) (0,)\n",
      "(0,) (0,) (0,) (0,)\n",
      "(0,) (0,) (0,) (0,)\n",
      "(0,) (0,) (0,) (0,)\n",
      "(0,) (0,) (0,) (0,)\n",
      "(0,) (0,) (0,) (0,)\n",
      "(0,) (0,) (0,) (0,)\n",
      "(0,) (0,) (0,) (0,)\n",
      "(0,) (0,) (0,) (0,)\n",
      "(0,) (0,) (0,) (0,)\n",
      "(0,) (0,) (0,) (0,)\n",
      "(0,) (0,) (0,) (0,)\n",
      "(0,) (0,) (0,) (0,)\n",
      "(0,) (0,) (0,) (0,)\n",
      "(0,) (0,) (0,) (0,)\n",
      "(0,) (0,) (0,) (0,)\n",
      "(0,) (0,) (0,) (0,)\n",
      "(0,) (0,) (0,) (0,)\n",
      "(0,) (0,) (0,) (0,)\n",
      "(0,) (0,) (0,) (0,)\n",
      "(0,) (0,) (0,) (0,)\n",
      "(0,) (0,) (0,) (0,)\n",
      "(0,) (0,) (0,) (0,)\n",
      "(0,) (0,) (0,) (0,)\n",
      "(0,) (0,) (0,) (0,)\n",
      "(0,) (0,) (0,) (0,)\n",
      "(0,) (0,) (0,) (0,)\n",
      "(0,) (0,) (0,) (0,)\n",
      "(0,) (0,) (0,) (0,)\n",
      "(0,) (0,) (0,) (0,)\n",
      "(0,) (0,) (0,) (0,)\n",
      "(0,) (0,) (0,) (0,)\n",
      "(0,) (0,) (0,) (0,)\n",
      "(0,) (0,) (0,) (0,)\n",
      "(0,) (0,) (0,) (0,)\n",
      "(0,) (0,) (0,) (0,)\n",
      "(0,) (0,) (0,) (0,)\n",
      "(0,) (0,) (0,) (0,)\n",
      "(0,) (0,) (0,) (0,)\n",
      "(0,) (0,) (0,) (0,)\n",
      "(0,) (0,) (0,) (0,)\n",
      "(0,) (0,) (0,) (0,)\n",
      "(0,) (0,) (0,) (0,)\n",
      "(0,) (0,) (0,) (0,)\n",
      "(0,) (0,) (0,) (0,)\n",
      "(0,) (0,) (0,) (0,)\n",
      "(0,) (0,) (0,) (0,)\n",
      "(0,) (0,) (0,) (0,)\n",
      "(0,) (0,) (0,) (0,)\n",
      "(0,) (0,) (0,) (0,)\n",
      "(0,) (0,) (0,) (0,)\n",
      "(0,) (0,) (0,) (0,)\n",
      "(0,) (0,) (0,) (0,)\n",
      "(0,) (0,) (0,) (0,)\n",
      "(0,) (0,) (0,) (0,)\n",
      "(0,) (0,) (0,) (0,)\n",
      "(0,) (0,) (0,) (0,)\n",
      "(0,) (0,) (0,) (0,)\n",
      "(0,) (0,) (0,) (0,)\n",
      "(0,) (0,) (0,) (0,)\n",
      "(0,) (0,) (0,) (0,)\n",
      "(0,) (0,) (0,) (0,)\n",
      "(0,) (0,) (0,) (0,)\n",
      "(0,) (0,) (0,) (0,)\n",
      "(0,) (0,) (0,) (0,)\n",
      "(0,) (0,) (0,) (0,)\n",
      "(0,) (0,) (0,) (0,)\n",
      "(0,) (0,) (0,) (0,)\n",
      "(0,) (0,) (0,) (0,)\n",
      "(0,) (0,) (0,) (0,)\n",
      "(0,) (0,) (0,) (0,)\n",
      "(0,) (0,) (0,) (0,)\n",
      "(0,) (0,) (0,) (0,)\n",
      "(0,) (0,) (0,) (0,)\n",
      "(0,) (0,) (0,) (0,)\n",
      "(0,) (0,) (0,) (0,)\n",
      "(0,) (0,) (0,) (0,)\n",
      "(0,) (0,) (0,) (0,)\n",
      "(0,) (0,) (0,) (0,)\n",
      "(0,) (0,) (0,) (0,)\n",
      "(0,) (0,) (0,) (0,)\n",
      "(0,) (0,) (0,) (0,)\n",
      "(0,) (0,) (0,) (0,)\n",
      "(0,) (0,) (0,) (0,)\n",
      "(0,) (0,) (0,) (0,)\n",
      "(0,) (0,) (0,) (0,)\n",
      "(0,) (0,) (0,) (0,)\n",
      "(0,) (0,) (0,) (0,)\n",
      "(0,) (0,) (0,) (0,)\n",
      "(0,) (0,) (0,) (0,)\n",
      "(0,) (0,) (0,) (0,)\n",
      "(0,) (0,) (0,) (0,)\n",
      "(0,) (0,) (0,) (0,)\n",
      "(0,) (0,) (0,) (0,)\n",
      "(0,) (0,) (0,) (0,)\n",
      "(0,) (0,) (0,) (0,)\n",
      "(0,) (0,) (0,) (0,)\n",
      "(0,) (0,) (0,) (0,)\n",
      "(0,) (0,) (0,) (0,)\n",
      "(0,) (0,) (0,) (0,)\n",
      "(0,) (0,) (0,) (0,)\n",
      "(0,) (0,) (0,) (0,)\n",
      "(0,) (0,) (0,) (0,)\n",
      "(0,) (0,) (0,) (0,)\n",
      "(0,) (0,) (0,) (0,)\n",
      "(0,) (0,) (0,) (0,)\n",
      "(0,) (0,) (0,) (0,)\n",
      "(0,) (0,) (0,) (0,)\n",
      "(0,) (0,) (0,) (0,)\n",
      "(0,) (0,) (0,) (0,)\n",
      "(0,) (0,) (0,) (0,)\n",
      "(0,) (0,) (0,) (0,)\n",
      "(0,) (0,) (0,) (0,)\n",
      "(0,) (0,) (0,) (0,)\n",
      "(0,) (0,) (0,) (0,)\n",
      "(0,) (0,) (0,) (0,)\n",
      "(0,) (0,) (0,) (0,)\n",
      "(0,) (0,) (0,) (0,)\n",
      "(0,) (0,) (0,) (0,)\n",
      "(0,) (0,) (0,) (0,)\n",
      "(0,) (0,) (0,) (0,)\n"
     ]
    }
   ],
   "source": [
    "for f in log_progress(f_videos):\n",
    "    X = np.load(f).item()\n",
    "    \n",
    "    print X['audio'][np.isnan(X['audio'])].shape, X['eyes'][np.isnan(X['eyes'])].shape, \\\n",
    "          X['face_nn'][np.isnan(X['face_nn'])].shape, X['kinect'][np.isnan(X['kinect'])].shape"
   ]
  },
  {
   "cell_type": "code",
   "execution_count": 19,
   "metadata": {},
   "outputs": [
    {
     "data": {
      "application/vnd.jupyter.widget-view+json": {
       "model_id": "b4946b225b1944f39113868e7b92c63a",
       "version_major": 2,
       "version_minor": 0
      },
      "text/html": [
       "<p>Failed to display Jupyter Widget of type <code>VBox</code>.</p>\n",
       "<p>\n",
       "  If you're reading this message in Jupyter Notebook or JupyterLab, it may mean\n",
       "  that the widgets JavaScript is still loading. If this message persists, it\n",
       "  likely means that the widgets JavaScript library is either not installed or\n",
       "  not enabled. See the <a href=\"https://ipywidgets.readthedocs.io/en/stable/user_install.html\">Jupyter\n",
       "  Widgets Documentation</a> for setup instructions.\n",
       "</p>\n",
       "<p>\n",
       "  If you're reading this message in another notebook frontend (for example, a static\n",
       "  rendering on GitHub or <a href=\"https://nbviewer.jupyter.org/\">NBViewer</a>),\n",
       "  it may mean that your frontend doesn't currently support widgets.\n",
       "</p>\n"
      ],
      "text/plain": [
       "VBox(children=(HTML(value=u''), IntProgress(value=0, max=141)))"
      ]
     },
     "metadata": {},
     "output_type": "display_data"
    },
    {
     "name": "stdout",
     "output_type": "stream",
     "text": [
      "(5533, 102)\n",
      "(2704, 102)\n",
      "(2752, 102)\n",
      "(2879, 102)\n",
      "(2477, 102)\n",
      "(2821, 102)\n",
      "(2834, 102)\n",
      "(2886, 102)\n",
      "(8107, 102)\n",
      "(2821, 102)\n",
      "(3773, 102)\n",
      "(7147, 102)\n",
      "(2704, 102)\n",
      "(4316, 102)\n",
      "(2457, 102)\n",
      "(4575, 102)\n",
      "(3382, 102)\n",
      "(706, 102)\n",
      "(5472, 102)\n",
      "(2692, 102)\n",
      "(862, 102)\n",
      "(5328, 102)\n",
      "(5090, 102)\n",
      "(3467, 102)\n",
      "(4280, 102)\n",
      "(2303, 102)\n",
      "(5482, 102)\n",
      "(5061, 102)\n",
      "(2879, 102)\n",
      "(2303, 102)\n",
      "(5646, 102)\n",
      "(3571, 102)\n",
      "(2752, 102)\n",
      "(3285, 102)\n",
      "(4205, 102)\n",
      "(3550, 102)\n",
      "(3271, 102)\n",
      "(4631, 102)\n",
      "(4436, 102)\n",
      "(5123, 102)\n",
      "(7794, 102)\n",
      "(4331, 102)\n",
      "(878, 102)\n",
      "(1557, 102)\n",
      "(2538, 102)\n",
      "(5646, 102)\n",
      "(5242, 102)\n",
      "(2834, 102)\n",
      "(3938, 102)\n",
      "(5328, 102)\n",
      "(1341, 102)\n",
      "(2567, 102)\n",
      "(3361, 102)\n",
      "(5123, 102)\n",
      "(706, 102)\n",
      "(3382, 102)\n",
      "(3285, 102)\n",
      "(5090, 102)\n",
      "(4687, 102)\n",
      "(3853, 102)\n",
      "(2538, 102)\n",
      "(4552, 102)\n",
      "(6309, 102)\n",
      "(3906, 102)\n",
      "(4170, 102)\n",
      "(3592, 102)\n",
      "(4687, 102)\n",
      "(3361, 102)\n",
      "(4205, 102)\n",
      "(3024, 102)\n",
      "(3938, 102)\n",
      "(1989, 102)\n",
      "(4680, 102)\n",
      "(5472, 102)\n",
      "(4680, 102)\n",
      "(1282, 102)\n",
      "(2692, 102)\n",
      "(5397, 102)\n",
      "(3142, 102)\n",
      "(3271, 102)\n",
      "(1694, 102)\n",
      "(4699, 102)\n",
      "(2567, 102)\n",
      "(2477, 102)\n",
      "(4552, 102)\n",
      "(5242, 102)\n",
      "(6309, 102)\n",
      "(3906, 102)\n",
      "(4170, 102)\n",
      "(3853, 102)\n",
      "(3024, 102)\n",
      "(2816, 102)\n",
      "(3571, 102)\n",
      "(5660, 102)\n",
      "(2816, 102)\n",
      "(1989, 102)\n",
      "(4631, 102)\n",
      "(3962, 102)\n",
      "(1694, 102)\n",
      "(5397, 102)\n",
      "(862, 102)\n",
      "(4331, 102)\n",
      "(3912, 102)\n",
      "(3142, 102)\n",
      "(3962, 102)\n",
      "(8107, 102)\n",
      "(3550, 102)\n",
      "(3592, 102)\n",
      "(3467, 102)\n",
      "(7794, 102)\n",
      "(5061, 102)\n",
      "(3471, 102)\n",
      "(5660, 102)\n",
      "(1282, 102)\n",
      "(4316, 102)\n",
      "(4699, 102)\n",
      "(3290, 102)\n",
      "(5533, 102)\n",
      "(4386, 102)\n",
      "(4436, 102)\n",
      "(4280, 102)\n",
      "(7692, 102)\n",
      "(878, 102)\n",
      "(3290, 102)\n",
      "(1341, 102)\n",
      "(7692, 102)\n",
      "(5482, 102)\n",
      "(4386, 102)\n",
      "(3306, 102)\n",
      "(1557, 102)\n",
      "(3912, 102)\n",
      "(3773, 102)\n",
      "(3471, 102)\n",
      "(3956, 102)\n",
      "(1502, 102)\n",
      "(2886, 102)\n",
      "(3306, 102)\n"
     ]
    }
   ],
   "source": [
    "for f in log_progress(videos):\n",
    "    X = np.load(f).item()\n",
    "#     print X['audio'].shape, X['eyes'].shape, X['face_nn'].shape, X['kinect'].shape\n",
    "    \n",
    "    X_audio = norm(X['audio'], mins_audio, maxs_audio)\n",
    "    X_eyes = X['eyes']\n",
    "    X_face = X['face_nn']\n",
    "    X_kinect = norm(X['kinect'], mins_kinect, maxs_kinect)\n",
    "    \n",
    "    nn_audio = model_audio.predict(X_audio)\n",
    "    nn_eyes = model_eyes.predict(X_eyes)\n",
    "    nn_face = model_face.predict(X_face)\n",
    "    nn_kinect = model_kinect.predict(X_kinect)\n",
    "#     print nn_audio.shape, nn_eyes.shape, nn_face.shape, nn_kinect.shape\n",
    "    \n",
    "    embd = np.concatenate([nn_audio, nn_eyes, nn_face, nn_kinect], axis=1)\n",
    "    print embd.shape\n",
    "    \n",
    "    np.save('out/{}'.format(os.path.basename(f)), embd)\n",
    "    \n",
    "#     break"
   ]
  },
  {
   "cell_type": "markdown",
   "metadata": {},
   "source": [
    "---"
   ]
  },
  {
   "cell_type": "code",
   "execution_count": 3,
   "metadata": {},
   "outputs": [],
   "source": [
    "LABELS_TEST_PATH = '/home/datasets/merc-2017/test/prediction/'\n",
    "OUT_PATH = 'submission4'"
   ]
  },
  {
   "cell_type": "code",
   "execution_count": 4,
   "metadata": {},
   "outputs": [],
   "source": [
    "predictor = joblib.load('models/predictor_phase2.pkl')"
   ]
  },
  {
   "cell_type": "code",
   "execution_count": 5,
   "metadata": {},
   "outputs": [
    {
     "name": "stdout",
     "output_type": "stream",
     "text": [
      "141\n"
     ]
    }
   ],
   "source": [
    "videos = sorted(os.listdir('out'))\n",
    "\n",
    "print len(videos)"
   ]
  },
  {
   "cell_type": "code",
   "execution_count": 6,
   "metadata": {},
   "outputs": [
    {
     "name": "stdout",
     "output_type": "stream",
     "text": [
      "141\n"
     ]
    }
   ],
   "source": [
    "X_test_tinds = np.load('data/X_test_tinds.npy').item()\n",
    "\n",
    "print len(X_test_tinds)"
   ]
  },
  {
   "cell_type": "code",
   "execution_count": 7,
   "metadata": {},
   "outputs": [
    {
     "data": {
      "application/vnd.jupyter.widget-view+json": {
       "model_id": "0c52c351cbe741f3acd5536282cb306e",
       "version_major": 2,
       "version_minor": 0
      },
      "text/html": [
       "<p>Failed to display Jupyter Widget of type <code>VBox</code>.</p>\n",
       "<p>\n",
       "  If you're reading this message in Jupyter Notebook or JupyterLab, it may mean\n",
       "  that the widgets JavaScript is still loading. If this message persists, it\n",
       "  likely means that the widgets JavaScript library is either not installed or\n",
       "  not enabled. See the <a href=\"https://ipywidgets.readthedocs.io/en/stable/user_install.html\">Jupyter\n",
       "  Widgets Documentation</a> for setup instructions.\n",
       "</p>\n",
       "<p>\n",
       "  If you're reading this message in another notebook frontend (for example, a static\n",
       "  rendering on GitHub or <a href=\"https://nbviewer.jupyter.org/\">NBViewer</a>),\n",
       "  it may mean that your frontend doesn't currently support widgets.\n",
       "</p>\n"
      ],
      "text/plain": [
       "VBox(children=(HTML(value=u''), IntProgress(value=0, max=141)))"
      ]
     },
     "metadata": {},
     "output_type": "display_data"
    }
   ],
   "source": [
    "if os.path.exists(OUT_PATH):\n",
    "    print 'Submission already exists! Aborting.'\n",
    "else:\n",
    "    os.makedirs(os.path.join(OUT_PATH, 'prediction'))\n",
    "    \n",
    "    for video in log_progress(videos[:]):\n",
    "        video = video.split('.npy')[0]\n",
    "\n",
    "        embd = np.load('out/' + video + '.npy')\n",
    "        scores = predictor.predict_proba(embd)\n",
    "        tinds = np.asarray(X_test_tinds[video + '.csv'])\n",
    "        df = pd.read_csv(os.path.join(LABELS_TEST_PATH, video + '.csv'))\n",
    "\n",
    "        for t_i, t in df.Time.iteritems():\n",
    "            tmp_timings = tinds[(tinds[:, 0] <= t) & (tinds[:, 1] >= t)]\n",
    "            tmp_scores = scores[(tinds[:, 0] <= t) & (tinds[:, 1] >= t)]\n",
    "            \n",
    "            # s3\n",
    "            ################################################\n",
    "#             hlabels = np.argmax(tmp_scores, axis=1).tolist()\n",
    "#             y_pred = np.argmax([hlabels.count(i) for i in range(6)])\n",
    "#             df.iloc[t_i, y_pred + 1] = 1.0\n",
    "#             continue\n",
    "            ################################################\n",
    "\n",
    "            if len(tmp_timings) == 0:\n",
    "                if t_i > 0:\n",
    "                    df.iloc[t_i, y_pred + 1] = 1.0\n",
    "                else:\n",
    "                    print 'Warning!'\n",
    "                continue\n",
    "\n",
    "            tavgs = np.mean(tmp_timings, axis=1)\n",
    "            t_closest_ind = np.argmin(np.abs(tavgs - t))\n",
    "\n",
    "            if len(tmp_timings) == 1:\n",
    "                weights = np.asarray([1.0])\n",
    "            else:\n",
    "                # s1\n",
    "                ################################################\n",
    "#                 weights = norm.pdf(tavgs, loc=tavgs[t_closest_ind], scale=np.abs(tavgs - tavgs[t_closest_ind]).max()/3.0)\n",
    "                ################################################\n",
    "                # s2\n",
    "                ################################################\n",
    "#                 weights = np.asarray([1.0] * len(tavgs))\n",
    "                ################################################\n",
    "                # s4\n",
    "                ################################################\n",
    "                weights = norm.pdf(tavgs, loc=tavgs[-1], scale=(tavgs[-1] - tavgs[0])/3.0)\n",
    "                ################################################\n",
    "        \n",
    "                weights /= weights.max()\n",
    "\n",
    "            tmp_scores_w = np.sum((tmp_scores.T * weights.T).T, axis=0)\n",
    "            y_pred = np.argmax(tmp_scores_w)\n",
    "#             print y_pred\n",
    "\n",
    "            df.iloc[t_i, y_pred + 1] = 1.0\n",
    "\n",
    "        df.to_csv(os.path.join(OUT_PATH, 'prediction', video + '.csv'), index=False)\n",
    "\n",
    "#         break"
   ]
  },
  {
   "cell_type": "raw",
   "metadata": {},
   "source": [
    "xx = [4.32, 4.33, 4.34, 4.35, 4.36, 4.37, 4.38, 4.39, 4.4,  4.41, 4.42, 4.43, 4.44, 4.45]\n",
    "\n",
    "x = np.linspace(3, 6, 100)\n",
    "y = norm.pdf(x, loc=4.32, scale=(4.45 - 4.32)/3.0)\n",
    "y /= y.max()\n",
    "\n",
    "plt.figure(figsize=(15, 5))\n",
    "plt.plot(x, y)\n",
    "plt.grid(True)\n",
    "plt.stem(xx, [1] * len(xx), 'r')"
   ]
  },
  {
   "cell_type": "code",
   "execution_count": null,
   "metadata": {},
   "outputs": [],
   "source": []
  }
 ],
 "metadata": {
  "kernelspec": {
   "display_name": "Python 2",
   "language": "python",
   "name": "python2"
  },
  "language_info": {
   "codemirror_mode": {
    "name": "ipython",
    "version": 2
   },
   "file_extension": ".py",
   "mimetype": "text/x-python",
   "name": "python",
   "nbconvert_exporter": "python",
   "pygments_lexer": "ipython2",
   "version": "2.7.12"
  }
 },
 "nbformat": 4,
 "nbformat_minor": 2
}
