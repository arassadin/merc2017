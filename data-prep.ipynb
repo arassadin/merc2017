{
 "cells": [
  {
   "cell_type": "code",
   "execution_count": 1,
   "metadata": {},
   "outputs": [],
   "source": [
    "import os\n",
    "import numpy as np\n",
    "import pandas as pd\n",
    "import matplotlib.pyplot as plt\n",
    "from glob import glob\n",
    "%matplotlib inline"
   ]
  },
  {
   "cell_type": "code",
   "execution_count": 2,
   "metadata": {},
   "outputs": [],
   "source": [
    "def log_progress(sequence, every=None, size=None, name='Items'):\n",
    "    from ipywidgets import IntProgress, HTML, VBox\n",
    "    from IPython.display import display\n",
    "\n",
    "    is_iterator = False\n",
    "    if size is None:\n",
    "        try:\n",
    "            size = len(sequence)\n",
    "        except TypeError:\n",
    "            is_iterator = True\n",
    "    if size is not None:\n",
    "        if every is None:\n",
    "            if size <= 200:\n",
    "                every = 1\n",
    "            else:\n",
    "                every = int(size / 200)     # every 0.5%\n",
    "    else:\n",
    "        assert every is not None, 'sequence is iterator, set every'\n",
    "\n",
    "    if is_iterator:\n",
    "        progress = IntProgress(min=0, max=1, value=1)\n",
    "        progress.bar_style = 'info'\n",
    "    else:\n",
    "        progress = IntProgress(min=0, max=size, value=0)\n",
    "    label = HTML()\n",
    "    box = VBox(children=[label, progress])\n",
    "    display(box)\n",
    "\n",
    "    index = 0\n",
    "    try:\n",
    "        for index, record in enumerate(sequence, 1):\n",
    "            if index == 1 or index % every == 0:\n",
    "                if is_iterator:\n",
    "                    label.value = '{name}: {index} / ?'.format(\n",
    "                        name=name,\n",
    "                        index=index\n",
    "                    )\n",
    "                else:\n",
    "                    progress.value = index\n",
    "                    label.value = u'{name}: {index} / {size}'.format(\n",
    "                        name=name,\n",
    "                        index=index,\n",
    "                        size=size\n",
    "                    )\n",
    "            yield record\n",
    "    except:\n",
    "        progress.bar_style = 'danger'\n",
    "        raise\n",
    "    else:\n",
    "        progress.bar_style = 'success'\n",
    "        progress.value = index\n",
    "        label.value = \"{name}: {index}\".format(\n",
    "            name=name,\n",
    "            index=str(index or '?')\n",
    "        )"
   ]
  },
  {
   "cell_type": "code",
   "execution_count": 3,
   "metadata": {},
   "outputs": [],
   "source": [
    "DATA_TRAIN_PATH = '/home/datasets/merc-2017/train/'\n",
    "DATA_TEST_PATH = '/home/datasets/merc-2017/test/'\n",
    "LABELS_TRAIN_PATH = '/home/datasets/merc-2017/train/labels/'\n",
    "LABELS_TEST_PATH = '/home/datasets/merc-2017/test/prediction/'\n",
    "\n",
    "subfolders = ['audio', 'eyes', 'face_nn', 'kinect']"
   ]
  },
  {
   "cell_type": "code",
   "execution_count": 4,
   "metadata": {},
   "outputs": [],
   "source": [
    "OBS_WIN = 4\n",
    "TRAIN_RATIO = 0.8\n",
    "\n",
    "fpss = {'audio': 100, 'eyes': 50, 'face_nn': 50, 'kinect': 15}\n",
    "fsizes = {'audio': 36, 'eyes': 6, 'face_nn': 100, 'kinect': 27}"
   ]
  },
  {
   "cell_type": "markdown",
   "metadata": {},
   "source": [
    "## Train + Val"
   ]
  },
  {
   "cell_type": "markdown",
   "metadata": {},
   "source": [
    "**Считываем данные:**"
   ]
  },
  {
   "cell_type": "code",
   "execution_count": 5,
   "metadata": {},
   "outputs": [
    {
     "data": {
      "application/vnd.jupyter.widget-view+json": {
       "model_id": "b038e04a5c954b208841e54b0a9a78c6",
       "version_major": 2,
       "version_minor": 0
      },
      "text/html": [
       "<p>Failed to display Jupyter Widget of type <code>VBox</code>.</p>\n",
       "<p>\n",
       "  If you're reading this message in Jupyter Notebook or JupyterLab, it may mean\n",
       "  that the widgets JavaScript is still loading. If this message persists, it\n",
       "  likely means that the widgets JavaScript library is either not installed or\n",
       "  not enabled. See the <a href=\"https://ipywidgets.readthedocs.io/en/stable/user_install.html\">Jupyter\n",
       "  Widgets Documentation</a> for setup instructions.\n",
       "</p>\n",
       "<p>\n",
       "  If you're reading this message in another notebook frontend (for example, a static\n",
       "  rendering on GitHub or <a href=\"https://nbviewer.jupyter.org/\">NBViewer</a>),\n",
       "  it may mean that your frontend doesn't currently support widgets.\n",
       "</p>\n"
      ],
      "text/plain": [
       "VBox(children=(HTML(value=u''), IntProgress(value=0, max=272)))"
      ]
     },
     "metadata": {},
     "output_type": "display_data"
    },
    {
     "data": {
      "application/vnd.jupyter.widget-view+json": {
       "model_id": "bde68c01cbb14183ba9abde9d93745ea",
       "version_major": 2,
       "version_minor": 0
      },
      "text/html": [
       "<p>Failed to display Jupyter Widget of type <code>VBox</code>.</p>\n",
       "<p>\n",
       "  If you're reading this message in Jupyter Notebook or JupyterLab, it may mean\n",
       "  that the widgets JavaScript is still loading. If this message persists, it\n",
       "  likely means that the widgets JavaScript library is either not installed or\n",
       "  not enabled. See the <a href=\"https://ipywidgets.readthedocs.io/en/stable/user_install.html\">Jupyter\n",
       "  Widgets Documentation</a> for setup instructions.\n",
       "</p>\n",
       "<p>\n",
       "  If you're reading this message in another notebook frontend (for example, a static\n",
       "  rendering on GitHub or <a href=\"https://nbviewer.jupyter.org/\">NBViewer</a>),\n",
       "  it may mean that your frontend doesn't currently support widgets.\n",
       "</p>\n"
      ],
      "text/plain": [
       "VBox(children=(HTML(value=u''), IntProgress(value=0, max=306)))"
      ]
     },
     "metadata": {},
     "output_type": "display_data"
    },
    {
     "name": "stdout",
     "output_type": "stream",
     "text": [
      "happend\n"
     ]
    },
    {
     "data": {
      "application/vnd.jupyter.widget-view+json": {
       "model_id": "05b81cc7dade4d3691e484231c181fb8",
       "version_major": 2,
       "version_minor": 0
      },
      "text/html": [
       "<p>Failed to display Jupyter Widget of type <code>VBox</code>.</p>\n",
       "<p>\n",
       "  If you're reading this message in Jupyter Notebook or JupyterLab, it may mean\n",
       "  that the widgets JavaScript is still loading. If this message persists, it\n",
       "  likely means that the widgets JavaScript library is either not installed or\n",
       "  not enabled. See the <a href=\"https://ipywidgets.readthedocs.io/en/stable/user_install.html\">Jupyter\n",
       "  Widgets Documentation</a> for setup instructions.\n",
       "</p>\n",
       "<p>\n",
       "  If you're reading this message in another notebook frontend (for example, a static\n",
       "  rendering on GitHub or <a href=\"https://nbviewer.jupyter.org/\">NBViewer</a>),\n",
       "  it may mean that your frontend doesn't currently support widgets.\n",
       "</p>\n"
      ],
      "text/plain": [
       "VBox(children=(HTML(value=u''), IntProgress(value=0, max=256)))"
      ]
     },
     "metadata": {},
     "output_type": "display_data"
    },
    {
     "data": {
      "application/vnd.jupyter.widget-view+json": {
       "model_id": "0e18b55fa207462b874a06d91e5321da",
       "version_major": 2,
       "version_minor": 0
      },
      "text/html": [
       "<p>Failed to display Jupyter Widget of type <code>VBox</code>.</p>\n",
       "<p>\n",
       "  If you're reading this message in Jupyter Notebook or JupyterLab, it may mean\n",
       "  that the widgets JavaScript is still loading. If this message persists, it\n",
       "  likely means that the widgets JavaScript library is either not installed or\n",
       "  not enabled. See the <a href=\"https://ipywidgets.readthedocs.io/en/stable/user_install.html\">Jupyter\n",
       "  Widgets Documentation</a> for setup instructions.\n",
       "</p>\n",
       "<p>\n",
       "  If you're reading this message in another notebook frontend (for example, a static\n",
       "  rendering on GitHub or <a href=\"https://nbviewer.jupyter.org/\">NBViewer</a>),\n",
       "  it may mean that your frontend doesn't currently support widgets.\n",
       "</p>\n"
      ],
      "text/plain": [
       "VBox(children=(HTML(value=u''), IntProgress(value=0, max=295)))"
      ]
     },
     "metadata": {},
     "output_type": "display_data"
    }
   ],
   "source": [
    "dfs_train = {}\n",
    "for modality in subfolders:\n",
    "    dfs_train[modality] = {}\n",
    "\n",
    "for modality in subfolders[:]:\n",
    "    f_videos = sorted(glob(os.path.join(DATA_TRAIN_PATH, modality, '*.csv')))\n",
    "    for f in log_progress(f_videos):\n",
    "        if os.path.basename(f) == 'ida29608d8.csv' and modality == 'eyes':\n",
    "            print 'happend'\n",
    "            continue\n",
    "        if modality in ['audio', 'kinect']:\n",
    "            tmp_df = pd.read_csv(f)\n",
    "            tmp_df.columns = ['t'] + tmp_df.columns[1:].tolist()\n",
    "#             print tmp_df.head()\n",
    "        if modality in ['eyes', 'face_nn']:\n",
    "            tmp_df = pd.read_csv(f, skiprows=1)\n",
    "            tmp_df.columns = ['t'] + ['f_' + str(i + 1) for i in range(len(tmp_df.columns) - 1)]\n",
    "#             print tmp_df.head()\n",
    "\n",
    "        dfs_train[modality][os.path.basename(f)] = tmp_df\n",
    "            \n",
    "#         break\n",
    "#     break"
   ]
  },
  {
   "cell_type": "code",
   "execution_count": 6,
   "metadata": {},
   "outputs": [
    {
     "name": "stdout",
     "output_type": "stream",
     "text": [
      "0\n"
     ]
    }
   ],
   "source": [
    "counter = 0\n",
    "\n",
    "for k, df in dfs_train['eyes'].iteritems():\n",
    "    tmp = df.drop('t', axis=1).as_matrix()\n",
    "    if tmp[np.isnan(tmp)].size > 0:\n",
    "        print k\n",
    "#         print df.head()\n",
    "        counter += 1\n",
    "#         break\n",
    "\n",
    "print counter"
   ]
  },
  {
   "cell_type": "markdown",
   "metadata": {},
   "source": [
    "**Парсим на временные метки и сами признаки:**"
   ]
  },
  {
   "cell_type": "code",
   "execution_count": 7,
   "metadata": {},
   "outputs": [
    {
     "data": {
      "application/vnd.jupyter.widget-view+json": {
       "model_id": "619250af7a0c45e892246627adabf4c0",
       "version_major": 2,
       "version_minor": 0
      },
      "text/html": [
       "<p>Failed to display Jupyter Widget of type <code>VBox</code>.</p>\n",
       "<p>\n",
       "  If you're reading this message in Jupyter Notebook or JupyterLab, it may mean\n",
       "  that the widgets JavaScript is still loading. If this message persists, it\n",
       "  likely means that the widgets JavaScript library is either not installed or\n",
       "  not enabled. See the <a href=\"https://ipywidgets.readthedocs.io/en/stable/user_install.html\">Jupyter\n",
       "  Widgets Documentation</a> for setup instructions.\n",
       "</p>\n",
       "<p>\n",
       "  If you're reading this message in another notebook frontend (for example, a static\n",
       "  rendering on GitHub or <a href=\"https://nbviewer.jupyter.org/\">NBViewer</a>),\n",
       "  it may mean that your frontend doesn't currently support widgets.\n",
       "</p>\n"
      ],
      "text/plain": [
       "VBox(children=(HTML(value=u''), IntProgress(value=0, max=4)))"
      ]
     },
     "metadata": {},
     "output_type": "display_data"
    }
   ],
   "source": [
    "timings_train = {}\n",
    "data_ts_train = {}\n",
    "for modality in subfolders:\n",
    "    data_ts_train[modality] = {}\n",
    "\n",
    "for modality in log_progress(subfolders[:]):\n",
    "    \n",
    "    for f, df in dfs_train[modality].iteritems():\n",
    "        \n",
    "        if timings_train.get(f, None) is None:\n",
    "            timings_train[f] = {}\n",
    "        timings_train[f][modality] = df.t.as_matrix()\n",
    "        data_ts_train[modality][f] = df.drop('t', axis=1).as_matrix()\n",
    "        \n",
    "#         break\n",
    "#     break"
   ]
  },
  {
   "cell_type": "code",
   "execution_count": 8,
   "metadata": {},
   "outputs": [
    {
     "name": "stdout",
     "output_type": "stream",
     "text": [
      "306\n"
     ]
    }
   ],
   "source": [
    "f_videos_train = []\n",
    "\n",
    "for v in data_ts_train.values():\n",
    "    f_videos_train += v.keys()\n",
    "    \n",
    "f_videos_train = set(f_videos_train)\n",
    "print len(f_videos_train)"
   ]
  },
  {
   "cell_type": "markdown",
   "metadata": {},
   "source": [
    "**Наконец идем временным окном по всем видео по всем модальностям и собираем X:**"
   ]
  },
  {
   "cell_type": "code",
   "execution_count": 9,
   "metadata": {
    "scrolled": true
   },
   "outputs": [
    {
     "data": {
      "application/vnd.jupyter.widget-view+json": {
       "model_id": "60ddd8166ca34beaabe7790811598d7c",
       "version_major": 2,
       "version_minor": 0
      },
      "text/html": [
       "<p>Failed to display Jupyter Widget of type <code>VBox</code>.</p>\n",
       "<p>\n",
       "  If you're reading this message in Jupyter Notebook or JupyterLab, it may mean\n",
       "  that the widgets JavaScript is still loading. If this message persists, it\n",
       "  likely means that the widgets JavaScript library is either not installed or\n",
       "  not enabled. See the <a href=\"https://ipywidgets.readthedocs.io/en/stable/user_install.html\">Jupyter\n",
       "  Widgets Documentation</a> for setup instructions.\n",
       "</p>\n",
       "<p>\n",
       "  If you're reading this message in another notebook frontend (for example, a static\n",
       "  rendering on GitHub or <a href=\"https://nbviewer.jupyter.org/\">NBViewer</a>),\n",
       "  it may mean that your frontend doesn't currently support widgets.\n",
       "</p>\n"
      ],
      "text/plain": [
       "VBox(children=(HTML(value=u''), IntProgress(value=0, max=306)))"
      ]
     },
     "metadata": {},
     "output_type": "display_data"
    }
   ],
   "source": [
    "X_all = []\n",
    "\n",
    "for f in log_progress(f_videos_train):\n",
    "    df_labels = pd.read_csv(os.path.join(LABELS_TRAIN_PATH, f))\n",
    "    \n",
    "    # Эмпирически?\n",
    "#     t_start = round(np.min(np.concatenate(timings[f].values())), 3)\n",
    "#     t_end = round(np.max(np.concatenate(timings[f].values())), 3)\n",
    "\n",
    "    # Теоретически?\n",
    "    t_start = df_labels.Time.min()\n",
    "    t_end = df_labels.Time.max()\n",
    "    \n",
    "    tmp_storage = {}\n",
    "    for modality in subfolders[:]:\n",
    "        feats = data_ts_train[modality].get(f, None)\n",
    "        \n",
    "        tmp_x = []\n",
    "        for i in range(int((t_end - t_start - OBS_WIN + 1))):\n",
    "            \n",
    "            # Вообще нет видео для модальности!\n",
    "            if feats is None:\n",
    "                data = np.asarray( [ [-1] * fsizes[modality] ] * fpss[modality] * OBS_WIN )\n",
    "                \n",
    "                tmp_x.append(data)\n",
    "#                 break\n",
    "            else:  \n",
    "                tmp_start = t_start + i\n",
    "                tmp_end = t_start + i + OBS_WIN\n",
    "                \n",
    "                data = feats[(timings_train[f][modality] >= tmp_start) & (timings_train[f][modality] < tmp_end)]\n",
    "                ts_real = timings_train[f][modality][(timings_train[f][modality] >= tmp_start) & (timings_train[f][modality] < tmp_end)]\n",
    "                \n",
    "                # Видео есть, но запись этой модальности уже закончилась\n",
    "                if len(ts_real) == 0:\n",
    "                    data = np.asarray( [ [-1] * fsizes[modality] ] * fpss[modality] * OBS_WIN )\n",
    "                    \n",
    "                    tmp_x.append(data)\n",
    "                    continue\n",
    "                \n",
    "                ts_target = np.linspace(tmp_start, tmp_end, fpss[modality] * OBS_WIN, endpoint=False)\n",
    "                \n",
    "                inds = []\n",
    "                for val in ts_target:\n",
    "                    inds.append(np.argmin(np.abs(ts_real - val)))\n",
    "                data = data[inds]\n",
    "\n",
    "                tmp_x.append(data)\n",
    "#                 break\n",
    "\n",
    "        tmp_storage[modality] = np.asarray(tmp_x)   \n",
    "#         break\n",
    "\n",
    "    X_all.append(tmp_storage)\n",
    "#     break"
   ]
  },
  {
   "cell_type": "markdown",
   "metadata": {},
   "source": [
    "**То же самое для меток:**"
   ]
  },
  {
   "cell_type": "code",
   "execution_count": 10,
   "metadata": {},
   "outputs": [
    {
     "data": {
      "application/vnd.jupyter.widget-view+json": {
       "model_id": "bbdb23603a154a598898e16bb79cac44",
       "version_major": 2,
       "version_minor": 0
      },
      "text/html": [
       "<p>Failed to display Jupyter Widget of type <code>VBox</code>.</p>\n",
       "<p>\n",
       "  If you're reading this message in Jupyter Notebook or JupyterLab, it may mean\n",
       "  that the widgets JavaScript is still loading. If this message persists, it\n",
       "  likely means that the widgets JavaScript library is either not installed or\n",
       "  not enabled. See the <a href=\"https://ipywidgets.readthedocs.io/en/stable/user_install.html\">Jupyter\n",
       "  Widgets Documentation</a> for setup instructions.\n",
       "</p>\n",
       "<p>\n",
       "  If you're reading this message in another notebook frontend (for example, a static\n",
       "  rendering on GitHub or <a href=\"https://nbviewer.jupyter.org/\">NBViewer</a>),\n",
       "  it may mean that your frontend doesn't currently support widgets.\n",
       "</p>\n"
      ],
      "text/plain": [
       "VBox(children=(HTML(value=u''), IntProgress(value=0, max=306)))"
      ]
     },
     "metadata": {},
     "output_type": "display_data"
    }
   ],
   "source": [
    "y_all = []; score_all = []\n",
    "\n",
    "for f in log_progress(f_videos_train):\n",
    "    df_labels = pd.read_csv(os.path.join(LABELS_TRAIN_PATH, f))\n",
    "    \n",
    "    # Эмпирически?\n",
    "#     t_start = round(np.min(np.concatenate(timings[f].values())), 3)\n",
    "#     t_end = round(np.max(np.concatenate(timings[f].values())), 3)\n",
    "\n",
    "    # Теоретически?\n",
    "    t_start = df_labels.Time.min()\n",
    "    t_end = df_labels.Time.max()\n",
    "        \n",
    "    tmp_y = []\n",
    "    for i in range(int((t_end - t_start - OBS_WIN + 1))):\n",
    "        \n",
    "        tmp_start = t_start + i\n",
    "        tmp_end = t_start + i + OBS_WIN\n",
    "\n",
    "        labels = df_labels[(df_labels.Time >= tmp_start) & (df_labels.Time < tmp_end)][df_labels.columns[1:-1]].as_matrix()\n",
    "        scores = df_labels[(df_labels.Time >= tmp_start) & (df_labels.Time < tmp_end)]['Agreement score'].as_matrix()\n",
    "        \n",
    "        labels_w = np.multiply(labels.T, scores.T).T\n",
    "        lbl = np.argmax(np.sum(labels_w, axis=0))\n",
    "        tmp_y.append(lbl)\n",
    "\n",
    "#         break\n",
    "\n",
    "    y_all.append(np.asarray(tmp_y, dtype=np.uint8))\n",
    "    \n",
    "#     break"
   ]
  },
  {
   "cell_type": "markdown",
   "metadata": {},
   "source": [
    "### Checks"
   ]
  },
  {
   "cell_type": "code",
   "execution_count": 11,
   "metadata": {},
   "outputs": [],
   "source": [
    "for i, vals in enumerate(zip(X_all, y_all)):\n",
    "    x, y = vals\n",
    "    if x['audio'].shape[0] != y.shape[0]:\n",
    "        print '{}: {} vs {}'.format(i, x['audio'].shape[0], y.shape[0])"
   ]
  },
  {
   "cell_type": "code",
   "execution_count": 12,
   "metadata": {},
   "outputs": [],
   "source": [
    "for i, vals in enumerate(zip(X_all, y_all)):\n",
    "    x, y = vals\n",
    "    if x['eyes'].shape[0] != y.shape[0]:\n",
    "        print '{}: {} vs {}'.format(i, x['eyes'].shape[0], y.shape[0])"
   ]
  },
  {
   "cell_type": "code",
   "execution_count": 13,
   "metadata": {},
   "outputs": [],
   "source": [
    "for i, vals in enumerate(zip(X_all, y_all)):\n",
    "    x, y = vals\n",
    "    if x['face_nn'].shape[0] != y.shape[0]:\n",
    "        print '{}: {} vs {}'.format(i, x['face_nn'].shape[0], y.shape[0])"
   ]
  },
  {
   "cell_type": "code",
   "execution_count": 14,
   "metadata": {},
   "outputs": [],
   "source": [
    "for i, vals in enumerate(zip(X_all, y_all)):\n",
    "    x, y = vals\n",
    "    if x['kinect'].shape[0] != y.shape[0]:\n",
    "        print '{}: {} vs {}'.format(i, x['kinect'].shape[0], y.shape[0])"
   ]
  },
  {
   "cell_type": "code",
   "execution_count": 15,
   "metadata": {},
   "outputs": [
    {
     "name": "stdout",
     "output_type": "stream",
     "text": [
      "------------\n",
      "0\n"
     ]
    }
   ],
   "source": [
    "counter = 0\n",
    "\n",
    "for i, el in enumerate(X_all):\n",
    "    if el['audio'].shape[0] == el['eyes'].shape[0] == el['face_nn'].shape[0] == el['kinect'].shape[0]:\n",
    "        pass\n",
    "    else:\n",
    "        print '{}: '.format(i), el['audio'].shape[0], el['eyes'].shape[0], el['face_nn'].shape[0], el['kinect'].shape[0]\n",
    "        counter += 1\n",
    "        \n",
    "print '------------'\n",
    "print counter"
   ]
  },
  {
   "cell_type": "code",
   "execution_count": 16,
   "metadata": {},
   "outputs": [],
   "source": [
    "np.save('tmp_X', X_all)"
   ]
  },
  {
   "cell_type": "markdown",
   "metadata": {},
   "source": [
    "---"
   ]
  },
  {
   "cell_type": "code",
   "execution_count": 18,
   "metadata": {},
   "outputs": [],
   "source": [
    "mins, maxs = [], []\n",
    "\n",
    "tmp = np.concatenate([x['audio'] for x in X_all])\n",
    "for i in range(tmp.shape[-1]):\n",
    "    mins.append(tmp[:, :, i].min())\n",
    "    maxs.append((tmp[:, :, i] - tmp[:, :, i].min()).max())\n",
    "\n",
    "np.save('audio_mins', mins)\n",
    "np.save('audio_maxs', maxs)"
   ]
  },
  {
   "cell_type": "code",
   "execution_count": 19,
   "metadata": {},
   "outputs": [],
   "source": [
    "mins, maxs = [], []\n",
    "\n",
    "tmp = np.concatenate([x['kinect'] for x in X_all])\n",
    "for i in range(tmp.shape[-1]):\n",
    "    mins.append(tmp[:, :, i].min())\n",
    "    maxs.append((tmp[:, :, i] - tmp[:, :, i].min()).max())\n",
    "\n",
    "np.save('kinect_mins', mins)\n",
    "np.save('kinect_maxs', maxs)"
   ]
  },
  {
   "cell_type": "code",
   "execution_count": 20,
   "metadata": {},
   "outputs": [],
   "source": [
    "del tmp"
   ]
  },
  {
   "cell_type": "code",
   "execution_count": 21,
   "metadata": {},
   "outputs": [
    {
     "name": "stdout",
     "output_type": "stream",
     "text": [
      "244 244\n",
      "62 62\n"
     ]
    }
   ],
   "source": [
    "inds = np.arange(len(y_all))\n",
    "np.random.seed(42)\n",
    "np.random.shuffle(inds)\n",
    "\n",
    "X_train_all, y_train_all = [], []\n",
    "X_val_all, y_val_all = [], []\n",
    "\n",
    "for i in inds[: int(TRAIN_RATIO * len(inds))]:\n",
    "    X_train_all.append(X_all[i])\n",
    "    y_train_all.append(y_all[i])\n",
    "    \n",
    "for i in inds[int(TRAIN_RATIO * len(inds)) :]:\n",
    "    X_val_all.append(X_all[i])\n",
    "    y_val_all.append(y_all[i])\n",
    "\n",
    "print len(X_train_all), len(y_train_all)\n",
    "print len(X_val_all), len(y_val_all)"
   ]
  },
  {
   "cell_type": "code",
   "execution_count": 22,
   "metadata": {},
   "outputs": [],
   "source": [
    "np.save('X_train_all', X_train_all)\n",
    "np.save('X_val_all', X_val_all)\n",
    "np.save('y_train_all', y_train_all)\n",
    "np.save('y_val_all', y_val_all)"
   ]
  },
  {
   "cell_type": "markdown",
   "metadata": {},
   "source": [
    "**by modalities:**"
   ]
  },
  {
   "cell_type": "code",
   "execution_count": 23,
   "metadata": {},
   "outputs": [
    {
     "name": "stdout",
     "output_type": "stream",
     "text": [
      "(8332, 400, 36) (2114, 400, 36)\n"
     ]
    }
   ],
   "source": [
    "X_train_audio = np.concatenate([x['audio'] for x in X_train_all])\n",
    "X_val_audio = np.concatenate([x['audio'] for x in X_val_all])\n",
    "\n",
    "print X_train_audio.shape, X_val_audio.shape\n",
    "\n",
    "np.save('X_train_audio', X_train_audio)\n",
    "np.save('X_val_audio', X_val_audio)"
   ]
  },
  {
   "cell_type": "code",
   "execution_count": 24,
   "metadata": {},
   "outputs": [
    {
     "name": "stdout",
     "output_type": "stream",
     "text": [
      "(8332, 200, 6) (2114, 200, 6)\n"
     ]
    }
   ],
   "source": [
    "X_train_eyes = np.concatenate([x['eyes'] for x in X_train_all])\n",
    "X_val_eyes = np.concatenate([x['eyes'] for x in X_val_all])\n",
    "\n",
    "print X_train_eyes.shape, X_val_eyes.shape\n",
    "\n",
    "np.save('X_train_eyes', X_train_eyes)\n",
    "np.save('X_val_eyes', X_val_eyes)"
   ]
  },
  {
   "cell_type": "code",
   "execution_count": 25,
   "metadata": {},
   "outputs": [
    {
     "name": "stdout",
     "output_type": "stream",
     "text": [
      "(8332, 200, 100) (2114, 200, 100)\n"
     ]
    }
   ],
   "source": [
    "X_train_face = np.concatenate([x['face_nn'] for x in X_train_all])\n",
    "X_val_face = np.concatenate([x['face_nn'] for x in X_val_all])\n",
    "\n",
    "print X_train_face.shape, X_val_face.shape\n",
    "\n",
    "np.save('X_train_face', X_train_face)\n",
    "np.save('X_val_face', X_val_face)"
   ]
  },
  {
   "cell_type": "code",
   "execution_count": 26,
   "metadata": {},
   "outputs": [
    {
     "name": "stdout",
     "output_type": "stream",
     "text": [
      "(8332, 60, 27) (2114, 60, 27)\n"
     ]
    }
   ],
   "source": [
    "X_train_kinect = np.concatenate([x['kinect'] for x in X_train_all])\n",
    "X_val_kinect = np.concatenate([x['kinect'] for x in X_val_all])\n",
    "\n",
    "print X_train_kinect.shape, X_val_kinect.shape\n",
    "\n",
    "np.save('X_train_kinect', X_train_kinect)\n",
    "np.save('X_val_kinect', X_val_kinect)"
   ]
  },
  {
   "cell_type": "code",
   "execution_count": 27,
   "metadata": {},
   "outputs": [
    {
     "name": "stdout",
     "output_type": "stream",
     "text": [
      "(8332,) (2114,)\n"
     ]
    }
   ],
   "source": [
    "y_train = np.concatenate(y_train_all)\n",
    "y_val = np.concatenate(y_val_all)\n",
    "\n",
    "print y_train.shape, y_val.shape\n",
    "\n",
    "np.save('y_train', y_train)\n",
    "np.save('y_val', y_val)"
   ]
  },
  {
   "cell_type": "code",
   "execution_count": 28,
   "metadata": {},
   "outputs": [
    {
     "data": {
      "image/png": "[encoded data removed]",
      "text/plain": [
       "<matplotlib.figure.Figure at 0x7fbab5598f10>"
      ]
     },
     "metadata": {},
     "output_type": "display_data"
    }
   ],
   "source": [
    "plt.figure(figsize=(15, 5))\n",
    "\n",
    "plt.hist(np.concatenate(y_train_all), bins=6, normed=True)\n",
    "plt.grid(True)"
   ]
  },
  {
   "cell_type": "code",
   "execution_count": 29,
   "metadata": {},
   "outputs": [
    {
     "data": {
      "image/png": "[encoded data removed]",
      "text/plain": [
       "<matplotlib.figure.Figure at 0x7fb9f9345b10>"
      ]
     },
     "metadata": {},
     "output_type": "display_data"
    }
   ],
   "source": [
    "plt.figure(figsize=(15, 5))\n",
    "\n",
    "plt.hist(np.concatenate(y_val_all), bins=6, normed=True)\n",
    "plt.grid(True)"
   ]
  },
  {
   "cell_type": "markdown",
   "metadata": {},
   "source": [
    "## Test"
   ]
  },
  {
   "cell_type": "markdown",
   "metadata": {},
   "source": [
    "**Считываем данные:**"
   ]
  },
  {
   "cell_type": "code",
   "execution_count": 5,
   "metadata": {},
   "outputs": [
    {
     "data": {
      "application/vnd.jupyter.widget-view+json": {
       "model_id": "6b688d34e27b4e61b49a5763a07f51c6",
       "version_major": 2,
       "version_minor": 0
      },
      "text/html": [
       "<p>Failed to display Jupyter Widget of type <code>VBox</code>.</p>\n",
       "<p>\n",
       "  If you're reading this message in Jupyter Notebook or JupyterLab, it may mean\n",
       "  that the widgets JavaScript is still loading. If this message persists, it\n",
       "  likely means that the widgets JavaScript library is either not installed or\n",
       "  not enabled. See the <a href=\"https://ipywidgets.readthedocs.io/en/stable/user_install.html\">Jupyter\n",
       "  Widgets Documentation</a> for setup instructions.\n",
       "</p>\n",
       "<p>\n",
       "  If you're reading this message in another notebook frontend (for example, a static\n",
       "  rendering on GitHub or <a href=\"https://nbviewer.jupyter.org/\">NBViewer</a>),\n",
       "  it may mean that your frontend doesn't currently support widgets.\n",
       "</p>\n"
      ],
      "text/plain": [
       "VBox(children=(HTML(value=u''), IntProgress(value=0, max=122)))"
      ]
     },
     "metadata": {},
     "output_type": "display_data"
    },
    {
     "data": {
      "application/vnd.jupyter.widget-view+json": {
       "model_id": "c033231e566f45b79877f3d0ee310e36",
       "version_major": 2,
       "version_minor": 0
      },
      "text/html": [
       "<p>Failed to display Jupyter Widget of type <code>VBox</code>.</p>\n",
       "<p>\n",
       "  If you're reading this message in Jupyter Notebook or JupyterLab, it may mean\n",
       "  that the widgets JavaScript is still loading. If this message persists, it\n",
       "  likely means that the widgets JavaScript library is either not installed or\n",
       "  not enabled. See the <a href=\"https://ipywidgets.readthedocs.io/en/stable/user_install.html\">Jupyter\n",
       "  Widgets Documentation</a> for setup instructions.\n",
       "</p>\n",
       "<p>\n",
       "  If you're reading this message in another notebook frontend (for example, a static\n",
       "  rendering on GitHub or <a href=\"https://nbviewer.jupyter.org/\">NBViewer</a>),\n",
       "  it may mean that your frontend doesn't currently support widgets.\n",
       "</p>\n"
      ],
      "text/plain": [
       "VBox(children=(HTML(value=u''), IntProgress(value=0, max=141)))"
      ]
     },
     "metadata": {},
     "output_type": "display_data"
    },
    {
     "data": {
      "application/vnd.jupyter.widget-view+json": {
       "model_id": "9070df2c41e8498fa5c14ca83c316c03",
       "version_major": 2,
       "version_minor": 0
      },
      "text/html": [
       "<p>Failed to display Jupyter Widget of type <code>VBox</code>.</p>\n",
       "<p>\n",
       "  If you're reading this message in Jupyter Notebook or JupyterLab, it may mean\n",
       "  that the widgets JavaScript is still loading. If this message persists, it\n",
       "  likely means that the widgets JavaScript library is either not installed or\n",
       "  not enabled. See the <a href=\"https://ipywidgets.readthedocs.io/en/stable/user_install.html\">Jupyter\n",
       "  Widgets Documentation</a> for setup instructions.\n",
       "</p>\n",
       "<p>\n",
       "  If you're reading this message in another notebook frontend (for example, a static\n",
       "  rendering on GitHub or <a href=\"https://nbviewer.jupyter.org/\">NBViewer</a>),\n",
       "  it may mean that your frontend doesn't currently support widgets.\n",
       "</p>\n"
      ],
      "text/plain": [
       "VBox(children=(HTML(value=u''), IntProgress(value=0, max=124)))"
      ]
     },
     "metadata": {},
     "output_type": "display_data"
    },
    {
     "data": {
      "application/vnd.jupyter.widget-view+json": {
       "model_id": "a4c5574f7f01410e934026284bea5684",
       "version_major": 2,
       "version_minor": 0
      },
      "text/html": [
       "<p>Failed to display Jupyter Widget of type <code>VBox</code>.</p>\n",
       "<p>\n",
       "  If you're reading this message in Jupyter Notebook or JupyterLab, it may mean\n",
       "  that the widgets JavaScript is still loading. If this message persists, it\n",
       "  likely means that the widgets JavaScript library is either not installed or\n",
       "  not enabled. See the <a href=\"https://ipywidgets.readthedocs.io/en/stable/user_install.html\">Jupyter\n",
       "  Widgets Documentation</a> for setup instructions.\n",
       "</p>\n",
       "<p>\n",
       "  If you're reading this message in another notebook frontend (for example, a static\n",
       "  rendering on GitHub or <a href=\"https://nbviewer.jupyter.org/\">NBViewer</a>),\n",
       "  it may mean that your frontend doesn't currently support widgets.\n",
       "</p>\n"
      ],
      "text/plain": [
       "VBox(children=(HTML(value=u''), IntProgress(value=0, max=136)))"
      ]
     },
     "metadata": {},
     "output_type": "display_data"
    }
   ],
   "source": [
    "dfs_test = {}\n",
    "for modality in subfolders:\n",
    "    dfs_test[modality] = {}\n",
    "\n",
    "for modality in subfolders[:]:\n",
    "    f_videos = sorted(glob(os.path.join(DATA_TEST_PATH, modality, '*.csv')))\n",
    "    for f in log_progress(f_videos):\n",
    "        if modality in ['audio', 'kinect']:\n",
    "            tmp_df = pd.read_csv(f)\n",
    "            tmp_df.columns = ['t'] + tmp_df.columns[1:].tolist()\n",
    "#             print tmp_df.head()\n",
    "        if modality in ['eyes', 'face_nn']:\n",
    "            tmp_df = pd.read_csv(f, skiprows=1)\n",
    "            tmp_df.columns = ['t'] + ['f_' + str(i + 1) for i in range(len(tmp_df.columns) - 1)]\n",
    "#             print tmp_df.head()\n",
    "\n",
    "        dfs_test[modality][os.path.basename(f)] = tmp_df\n",
    "            \n",
    "#         break\n",
    "#     break"
   ]
  },
  {
   "cell_type": "markdown",
   "metadata": {},
   "source": [
    "**Парсим на временные метки и сами признаки:**"
   ]
  },
  {
   "cell_type": "code",
   "execution_count": 6,
   "metadata": {},
   "outputs": [
    {
     "data": {
      "application/vnd.jupyter.widget-view+json": {
       "model_id": "f07f812b4f4643c6b94cba79c51e007f",
       "version_major": 2,
       "version_minor": 0
      },
      "text/html": [
       "<p>Failed to display Jupyter Widget of type <code>VBox</code>.</p>\n",
       "<p>\n",
       "  If you're reading this message in Jupyter Notebook or JupyterLab, it may mean\n",
       "  that the widgets JavaScript is still loading. If this message persists, it\n",
       "  likely means that the widgets JavaScript library is either not installed or\n",
       "  not enabled. See the <a href=\"https://ipywidgets.readthedocs.io/en/stable/user_install.html\">Jupyter\n",
       "  Widgets Documentation</a> for setup instructions.\n",
       "</p>\n",
       "<p>\n",
       "  If you're reading this message in another notebook frontend (for example, a static\n",
       "  rendering on GitHub or <a href=\"https://nbviewer.jupyter.org/\">NBViewer</a>),\n",
       "  it may mean that your frontend doesn't currently support widgets.\n",
       "</p>\n"
      ],
      "text/plain": [
       "VBox(children=(HTML(value=u''), IntProgress(value=0, max=4)))"
      ]
     },
     "metadata": {},
     "output_type": "display_data"
    }
   ],
   "source": [
    "timings_test = {}\n",
    "data_ts_test = {}\n",
    "for modality in subfolders:\n",
    "    data_ts_test[modality] = {}\n",
    "\n",
    "for modality in log_progress(subfolders[:]):\n",
    "    \n",
    "    for f, df in dfs_test[modality].iteritems():\n",
    "        \n",
    "        if timings_test.get(f, None) is None:\n",
    "            timings_test[f] = {}\n",
    "        timings_test[f][modality] = df.t.as_matrix()\n",
    "        data_ts_test[modality][f] = df.drop('t', axis=1).as_matrix()\n",
    "        \n",
    "#         break\n",
    "#     break"
   ]
  },
  {
   "cell_type": "code",
   "execution_count": 7,
   "metadata": {},
   "outputs": [
    {
     "name": "stdout",
     "output_type": "stream",
     "text": [
      "141\n"
     ]
    }
   ],
   "source": [
    "f_videos_test = []\n",
    "\n",
    "for v in data_ts_test.values():\n",
    "    f_videos_test += v.keys()\n",
    "    \n",
    "f_videos_test = set(f_videos_test)\n",
    "print len(f_videos_test)"
   ]
  },
  {
   "cell_type": "markdown",
   "metadata": {},
   "source": [
    "**Собираем датасет:**"
   ]
  },
  {
   "cell_type": "code",
   "execution_count": 8,
   "metadata": {},
   "outputs": [
    {
     "data": {
      "application/vnd.jupyter.widget-view+json": {
       "model_id": "0cdce65a128244d481483b246fb20f68",
       "version_major": 2,
       "version_minor": 0
      },
      "text/html": [
       "<p>Failed to display Jupyter Widget of type <code>VBox</code>.</p>\n",
       "<p>\n",
       "  If you're reading this message in Jupyter Notebook or JupyterLab, it may mean\n",
       "  that the widgets JavaScript is still loading. If this message persists, it\n",
       "  likely means that the widgets JavaScript library is either not installed or\n",
       "  not enabled. See the <a href=\"https://ipywidgets.readthedocs.io/en/stable/user_install.html\">Jupyter\n",
       "  Widgets Documentation</a> for setup instructions.\n",
       "</p>\n",
       "<p>\n",
       "  If you're reading this message in another notebook frontend (for example, a static\n",
       "  rendering on GitHub or <a href=\"https://nbviewer.jupyter.org/\">NBViewer</a>),\n",
       "  it may mean that your frontend doesn't currently support widgets.\n",
       "</p>\n"
      ],
      "text/plain": [
       "VBox(children=(HTML(value=u''), IntProgress(value=0, max=141)))"
      ]
     },
     "metadata": {},
     "output_type": "display_data"
    }
   ],
   "source": [
    "for f in log_progress(f_videos_test):\n",
    "    df_labels = pd.read_csv(os.path.join(LABELS_TEST_PATH, f))\n",
    "    \n",
    "    # Эмпирически?\n",
    "#     t_start = round(np.min(np.concatenate(timings[f].values())), 3)\n",
    "#     t_end = round(np.max(np.concatenate(timings[f].values())), 3)\n",
    "\n",
    "    # Теоретически?\n",
    "    t_start = df_labels.Time.min()\n",
    "    t_end = df_labels.Time.max()\n",
    "#     print f, t_start, t_end\n",
    "    \n",
    "    tmp_storage = {}\n",
    "    for modality in subfolders[:]:\n",
    "        feats = data_ts_test[modality].get(f, None)\n",
    "        \n",
    "        tmp_x = []\n",
    "        for i in range(int(round((t_end - t_start - OBS_WIN) / 0.01)) + 1):\n",
    "            \n",
    "            # Вообще нет видео для модальности!\n",
    "            if feats is None:\n",
    "                data = np.asarray( [ [-1] * fsizes[modality] ] * fpss[modality] * OBS_WIN )\n",
    "                \n",
    "                tmp_x.append(data)\n",
    "#                 break\n",
    "            else:  \n",
    "                tmp_start = t_start + i * 0.01\n",
    "                tmp_end = t_start + i * 0.01 + OBS_WIN\n",
    "                \n",
    "                data = feats[(timings_test[f][modality] >= tmp_start) & (timings_test[f][modality] <= tmp_end)]\n",
    "                ts_real = timings_test[f][modality][(timings_test[f][modality] >= tmp_start) & (timings_test[f][modality] <= tmp_end)]\n",
    "                \n",
    "                # Видео есть, но запись этой модальности уже закончилась\n",
    "                if len(ts_real) == 0:\n",
    "                    data = np.asarray( [ [-1] * fsizes[modality] ] * fpss[modality] * OBS_WIN )\n",
    "                    \n",
    "                    tmp_x.append(data)\n",
    "                    continue\n",
    "                \n",
    "                ts_target = np.linspace(tmp_start, tmp_end, fpss[modality] * OBS_WIN, endpoint=False)\n",
    "                \n",
    "                inds = []\n",
    "                for val in ts_target:\n",
    "                    inds.append(np.argmin(np.abs(ts_real - val)))\n",
    "                data = data[inds]\n",
    "\n",
    "                tmp_x.append(data)\n",
    "#                 break\n",
    "\n",
    "        tmp_storage[modality] = np.asarray(tmp_x)   \n",
    "#         break\n",
    "\n",
    "    np.save('X_test/{}'.format(f.split('.csv')[0]), tmp_storage)\n",
    "#     break"
   ]
  },
  {
   "cell_type": "code",
   "execution_count": 9,
   "metadata": {},
   "outputs": [
    {
     "data": {
      "application/vnd.jupyter.widget-view+json": {
       "model_id": "149a992f6d484a7694cadd0e935c017d",
       "version_major": 2,
       "version_minor": 0
      },
      "text/html": [
       "<p>Failed to display Jupyter Widget of type <code>VBox</code>.</p>\n",
       "<p>\n",
       "  If you're reading this message in Jupyter Notebook or JupyterLab, it may mean\n",
       "  that the widgets JavaScript is still loading. If this message persists, it\n",
       "  likely means that the widgets JavaScript library is either not installed or\n",
       "  not enabled. See the <a href=\"https://ipywidgets.readthedocs.io/en/stable/user_install.html\">Jupyter\n",
       "  Widgets Documentation</a> for setup instructions.\n",
       "</p>\n",
       "<p>\n",
       "  If you're reading this message in another notebook frontend (for example, a static\n",
       "  rendering on GitHub or <a href=\"https://nbviewer.jupyter.org/\">NBViewer</a>),\n",
       "  it may mean that your frontend doesn't currently support widgets.\n",
       "</p>\n"
      ],
      "text/plain": [
       "VBox(children=(HTML(value=u''), IntProgress(value=0, max=141)))"
      ]
     },
     "metadata": {},
     "output_type": "display_data"
    }
   ],
   "source": [
    "X_test_tinds = {}\n",
    "\n",
    "for f in log_progress(f_videos_test):\n",
    "    df_labels = pd.read_csv(os.path.join(LABELS_TEST_PATH, f))\n",
    "    \n",
    "    # Эмпирически?\n",
    "#     t_start = round(np.min(np.concatenate(timings[f].values())), 3)\n",
    "#     t_end = round(np.max(np.concatenate(timings[f].values())), 3)\n",
    "\n",
    "    # Теоретически?\n",
    "    t_start = df_labels.Time.min()\n",
    "    t_end = df_labels.Time.max()\n",
    "#     print f, t_start, t_end\n",
    "\n",
    "    X_test_tinds[f] = []\n",
    "    for i in range(int(round((t_end - t_start - OBS_WIN) / 0.01)) + 1):\n",
    "\n",
    "        tmp_start = t_start + i * 0.01\n",
    "        tmp_end = t_start + i * 0.01 + OBS_WIN\n",
    "\n",
    "        X_test_tinds[f].append([tmp_start, tmp_end])\n",
    "\n",
    "#     break"
   ]
  },
  {
   "cell_type": "code",
   "execution_count": 11,
   "metadata": {},
   "outputs": [],
   "source": [
    "np.save('X_test_tinds', X_test_tinds)"
   ]
  },
  {
   "cell_type": "code",
   "execution_count": null,
   "metadata": {},
   "outputs": [],
   "source": []
  }
 ],
 "metadata": {
  "kernelspec": {
   "display_name": "Python 2",
   "language": "python",
   "name": "python2"
  },
  "language_info": {
   "codemirror_mode": {
    "name": "ipython",
    "version": 2
   },
   "file_extension": ".py",
   "mimetype": "text/x-python",
   "name": "python",
   "nbconvert_exporter": "python",
   "pygments_lexer": "ipython2",
   "version": "2.7.12"
  }
 },
 "nbformat": 4,
 "nbformat_minor": 2
}
