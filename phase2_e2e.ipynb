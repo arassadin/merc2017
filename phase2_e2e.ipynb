{
 "cells": [
  {
   "cell_type": "code",
   "execution_count": 1,
   "metadata": {},
   "outputs": [],
   "source": [
    "import numpy as np\n",
    "import pandas as pd\n",
    "import matplotlib.pyplot as plt\n",
    "from sklearn.ensemble import RandomForestClassifier, GradientBoostingClassifier\n",
    "from sklearn.model_selection import cross_val_score\n",
    "%matplotlib inline"
   ]
  },
  {
   "cell_type": "raw",
   "metadata": {},
   "source": [
    "%env CUDA_VISIBLE_DEVICES=-1"
   ]
  },
  {
   "cell_type": "code",
   "execution_count": 2,
   "metadata": {},
   "outputs": [
    {
     "name": "stderr",
     "output_type": "stream",
     "text": [
      "Using TensorFlow backend.\n"
     ]
    }
   ],
   "source": [
    "import keras"
   ]
  },
  {
   "cell_type": "code",
   "execution_count": 3,
   "metadata": {},
   "outputs": [],
   "source": [
    "model = keras.models.load_model('model_e2e_1.h5')"
   ]
  },
  {
   "cell_type": "code",
   "execution_count": 4,
   "metadata": {},
   "outputs": [],
   "source": [
    "model = keras.models.Model(model.inputs, model.get_layer('concatenate_1').output)"
   ]
  },
  {
   "cell_type": "code",
   "execution_count": 5,
   "metadata": {},
   "outputs": [],
   "source": [
    "def norm(arr, mins, maxs):\n",
    "    arr = arr.astype(float)\n",
    "    for i in range(arr.shape[-1]):\n",
    "        arr[:, :, i] -= mins[i]\n",
    "        arr[:, :, i] /= maxs[i]\n",
    "    return arr"
   ]
  },
  {
   "cell_type": "code",
   "execution_count": 6,
   "metadata": {},
   "outputs": [],
   "source": [
    "mins_audio, maxs_audio = np.load('audio_mins.npy'), np.load('audio_maxs.npy')\n",
    "mins_kinect, maxs_kinect = np.load('kinect_mins.npy'), np.load('kinect_maxs.npy')"
   ]
  },
  {
   "cell_type": "code",
   "execution_count": 7,
   "metadata": {},
   "outputs": [],
   "source": [
    "# X_train_audio = norm(np.load('X_train_audio.npy'), mins_audio, maxs_audio)\n",
    "X_val_audio = norm(np.load('X_val_audio.npy'), mins_audio, maxs_audio)\n",
    "\n",
    "# X_train_eyes = np.load('X_train_eyes.npy')\n",
    "X_val_eyes = np.load('X_val_eyes.npy')\n",
    "\n",
    "# X_train_face = np.load('X_train_face.npy')\n",
    "X_val_face = np.load('X_val_face.npy')\n",
    "\n",
    "# X_train_kinect = norm(np.load('X_train_kinect.npy'), mins_kinect, maxs_kinect)\n",
    "X_val_kinect = norm(np.load('X_val_kinect.npy'), mins_kinect, maxs_kinect)\n",
    "\n",
    "print X_val_audio.shape, X_val_eyes.shape, X_val_face.shape, X_val_kinect.shape"
   ]
  },
  {
   "cell_type": "code",
   "execution_count": 8,
   "metadata": {},
   "outputs": [],
   "source": [
    "nn_val = model.predict([X_val_audio, X_val_eyes, X_val_face, X_val_kinect])"
   ]
  },
  {
   "cell_type": "code",
   "execution_count": 9,
   "metadata": {},
   "outputs": [
    {
     "name": "stdout",
     "output_type": "stream",
     "text": [
      "(2114, 102)\n"
     ]
    }
   ],
   "source": [
    "print nn_val.shape"
   ]
  },
  {
   "cell_type": "markdown",
   "metadata": {},
   "source": [
    "---"
   ]
  },
  {
   "cell_type": "code",
   "execution_count": 10,
   "metadata": {},
   "outputs": [
    {
     "name": "stdout",
     "output_type": "stream",
     "text": [
      "(2114,)\n"
     ]
    }
   ],
   "source": [
    "# y_train = np.load('y_train.npy')\n",
    "y_val = np.load('y_val.npy')\n",
    "\n",
    "print y_val.shape"
   ]
  },
  {
   "cell_type": "code",
   "execution_count": 24,
   "metadata": {},
   "outputs": [],
   "source": [
    "predictor = RandomForestClassifier(1000)"
   ]
  },
  {
   "cell_type": "code",
   "execution_count": 22,
   "metadata": {},
   "outputs": [],
   "source": [
    "predictor = GradientBoostingClassifier(n_estimators=100)"
   ]
  },
  {
   "cell_type": "code",
   "execution_count": 25,
   "metadata": {},
   "outputs": [
    {
     "name": "stdout",
     "output_type": "stream",
     "text": [
      "[CV]  ................................................................\n",
      "[CV] ................................................. , total=   7.2s\n",
      "[CV]  ................................................................\n"
     ]
    },
    {
     "name": "stderr",
     "output_type": "stream",
     "text": [
      "[Parallel(n_jobs=1)]: Done   1 out of   1 | elapsed:    7.2s remaining:    0.0s\n"
     ]
    },
    {
     "name": "stdout",
     "output_type": "stream",
     "text": [
      "[CV] ................................................. , total=   6.9s\n",
      "[CV]  ................................................................\n",
      "[CV] ................................................. , total=   7.0s\n",
      "[CV]  ................................................................\n",
      "[CV] ................................................. , total=   6.9s\n",
      "[ 0.54990584  0.55471698  0.48106061  0.5352381 ]\n",
      "0.530230380118\n"
     ]
    },
    {
     "name": "stderr",
     "output_type": "stream",
     "text": [
      "[Parallel(n_jobs=1)]: Done   4 out of   4 | elapsed:   28.0s finished\n"
     ]
    }
   ],
   "source": [
    "scores = cross_val_score(predictor, nn_val, y_val, cv=4, verbose=2)\n",
    "print scores\n",
    "print np.mean(scores)"
   ]
  },
  {
   "cell_type": "code",
   "execution_count": null,
   "metadata": {},
   "outputs": [],
   "source": []
  }
 ],
 "metadata": {
  "kernelspec": {
   "display_name": "Python 2",
   "language": "python",
   "name": "python2"
  },
  "language_info": {
   "codemirror_mode": {
    "name": "ipython",
    "version": 2
   },
   "file_extension": ".py",
   "mimetype": "text/x-python",
   "name": "python",
   "nbconvert_exporter": "python",
   "pygments_lexer": "ipython2",
   "version": "2.7.12"
  }
 },
 "nbformat": 4,
 "nbformat_minor": 2
}
